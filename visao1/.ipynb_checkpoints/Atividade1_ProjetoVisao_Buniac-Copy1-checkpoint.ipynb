{
 "cells": [
  {
   "cell_type": "markdown",
   "metadata": {},
   "source": [
    "# Entregável 1 - visão computacional"
   ]
  },
  {
   "cell_type": "code",
   "execution_count": null,
   "metadata": {
    "collapsed": false
   },
   "outputs": [],
   "source": [
    "%matplotlib inline\n",
    "import cv2\n",
    "#from matplotlib import pyplot as plt\n",
    "import matplotlib.pyplot as plt\n",
    "import numpy as np\n",
    "np.seterr(over='ignore')\n",
    "import time as t\n",
    "print (\"OpenCV Version : %s \" % cv2.__version__)\n",
    "import argparse\n",
    "from math import pow,sqrt "
   ]
  },
  {
   "cell_type": "markdown",
   "metadata": {},
   "source": [
    "## Atividade 1\n",
    "\n",
    "Realize as seguintes atividades:\n",
    "\n",
    "1. O histograma fornecido aproveita bem as faixas de cores?\n",
    "2. Equalize o histograma de maneira que a cumulativa seja uma função linear na diagonal do gráfico\n",
    "3. Plote a imagem desenhada"
   ]
  },
  {
   "cell_type": "markdown",
   "metadata": {},
   "source": [
    "# Equalização de histograma"
   ]
  },
  {
   "cell_type": "code",
   "execution_count": null,
   "metadata": {
    "collapsed": false
   },
   "outputs": [],
   "source": [
    "rintin = cv2.imread(\"RinTinTin.jpg\")"
   ]
  },
  {
   "cell_type": "code",
   "execution_count": null,
   "metadata": {
    "collapsed": false
   },
   "outputs": [],
   "source": [
    "rintin.shape"
   ]
  },
  {
   "cell_type": "code",
   "execution_count": null,
   "metadata": {
    "collapsed": false
   },
   "outputs": [],
   "source": [
    "plt.imshow(rintin)"
   ]
  },
  {
   "cell_type": "code",
   "execution_count": null,
   "metadata": {
    "collapsed": false
   },
   "outputs": [],
   "source": [
    "rintin_gray = cv2.cvtColor(rintin, cv2.COLOR_RGB2GRAY)\n",
    "plt.imshow(rintin_gray)"
   ]
  },
  {
   "cell_type": "code",
   "execution_count": null,
   "metadata": {
    "collapsed": false
   },
   "outputs": [],
   "source": [
    "hist,bins = np.histogram(rintin_gray.flatten(),256,[0,256])\n",
    "cdf = hist.cumsum()\n",
    "cdf_normalized = cdf * hist.max()/ cdf.max()\n",
    "plt.plot(cdf_normalized, color = 'b')\n",
    "plt.hist(rintin_gray.flatten(),256,[0,256], color = 'r')\n",
    "plt.xlim([0,256])\n",
    "plt.legend(('cdf','histogram'), loc = 'upper left')\n",
    "plt.show()"
   ]
  },
  {
   "cell_type": "markdown",
   "metadata": {},
   "source": [
    "##### 1. O histograma fornecido aproveita bem as faixas de cores?\n",
    "R: Não"
   ]
  },
  {
   "cell_type": "code",
   "execution_count": null,
   "metadata": {
    "collapsed": false
   },
   "outputs": [],
   "source": [
    "rintin_gray.shape\n",
    "#rintin_gray.shape[0] =240\n",
    "#rintin_gray.shape[1] =320\n"
   ]
  },
  {
   "cell_type": "code",
   "execution_count": null,
   "metadata": {
    "collapsed": true
   },
   "outputs": [],
   "source": [
    "#cmax = qual é a cor máxima\n",
    "#cmin=qual é a cor minima\n",
    "cmin=rintin_gray.min()\n",
    "cmax=rintin_gray.max()\n"
   ]
  },
  {
   "cell_type": "markdown",
   "metadata": {
    "collapsed": false
   },
   "source": [
    "#cor de entrada = ce\n",
    "#cor de saida = cs\n",
    "for i in range(rintin_gray.shape[0]):\n",
    "    for j in range(rintin_gray.shape[1]):\n",
    "        ce = rintin_gray[i][j]#1pixel\n",
    "        cs=(255*(ce-cmin))/(cmax-cmin)\n",
    "        ce = cs"
   ]
  },
  {
   "cell_type": "code",
   "execution_count": null,
   "metadata": {
    "collapsed": false
   },
   "outputs": [],
   "source": [
    "#cor de entrada = ce\n",
    "#cor de saida = csaida\n",
    "for i in range(rintin_gray.shape[0]):\n",
    "    for j in range(rintin_gray.shape[1]):\n",
    "        ce = rintin_gray[i][j]\n",
    "        csaida=((ce-cmin)*255)/(cmax-cmin)\n",
    "        rintin_gray[i][j] = csaida"
   ]
  },
  {
   "cell_type": "code",
   "execution_count": null,
   "metadata": {
    "collapsed": false
   },
   "outputs": [],
   "source": [
    "plt.imshow(rintin_gray, cmap=\"Greys_r\", vmin=0, vmax=255)"
   ]
  },
  {
   "cell_type": "code",
   "execution_count": null,
   "metadata": {
    "collapsed": false
   },
   "outputs": [],
   "source": [
    "hist,bins = np.histogram(rintin_gray.flatten(),256,[0,256])\n",
    "cdf = hist.cumsum()\n",
    "cdf_normalized = cdf * hist.max()/ cdf.max()\n",
    "plt.plot(cdf_normalized, color = 'b')\n",
    "plt.hist(rintin_gray.flatten(),256,[0,256], color = 'r')\n",
    "plt.xlim([0,256])\n",
    "plt.legend(('cdf','histogram'), loc = 'upper left')\n",
    "plt.show()"
   ]
  },
  {
   "cell_type": "code",
   "execution_count": null,
   "metadata": {
    "collapsed": false
   },
   "outputs": [],
   "source": [
    "#Utilizando o equalize\n",
    "#cdf_m = np.ma.masked_equal(cdf,0)\n",
    "#cdf_m = (cdf_m - cdf_m.min())*255/(cdf_m.max()-cdf_m.min())\n",
    "#cdf = np.ma.filled(cdf_m,0).astype('uint8')\n",
    "#img = cdf[rintin]\n",
    "#rintin = cv2.imread(\"RinTinTin.jpg\",0)\n",
    "#equ = cv2.equalizeHist(rintin)\n",
    "#res = np.hstack((rintin,equ)) #stacking images side-by-side\n",
    "#cv2.imwrite('res.png',res)\n",
    "#http://opencvpython.blogspot.com.br/2013/03/histograms-2-histogram-equalization.html"
   ]
  },
  {
   "cell_type": "markdown",
   "metadata": {},
   "source": [
    "## Atividade 2"
   ]
  },
  {
   "cell_type": "markdown",
   "metadata": {},
   "source": [
    "Leia com a OpenCV a figura abaixo:\n",
    "\n",
    "![](hall_box_battery1.jpg)\n",
    "\n",
    "Separe os canais  R e B das imagens e analise seus histogramas.\n",
    "\n",
    "1. A partir dos canais R e B e da análise do histograma é possível identificar a caixa vermelha e a bateria azul?\n",
    "\n",
    "1. Crie uma imagem numpy em que somente os pixels da caixa vermelha estão brancos e faça seu plot aqui\n"
   ]
  },
  {
   "cell_type": "code",
   "execution_count": null,
   "metadata": {
    "collapsed": false
   },
   "outputs": [],
   "source": [
    "%matplotlib inline\n",
    "import cv2\n",
    "from matplotlib import pyplot as plt\n",
    "import numpy as np\n",
    "import time as t\n",
    "print \"OpenCV Version : %s \" % cv2.__version__"
   ]
  },
  {
   "cell_type": "code",
   "execution_count": null,
   "metadata": {
    "collapsed": false
   },
   "outputs": [],
   "source": [
    "imagem = cv2.imread(\"hall_box_battery1.jpg\")"
   ]
  },
  {
   "cell_type": "markdown",
   "metadata": {
    "collapsed": true
   },
   "source": [
    "## Imagem"
   ]
  },
  {
   "cell_type": "code",
   "execution_count": null,
   "metadata": {
    "collapsed": false
   },
   "outputs": [],
   "source": [
    "imagem_rgb = cv2.cvtColor(imagem, cv2.COLOR_BGR2RGB)"
   ]
  },
  {
   "cell_type": "code",
   "execution_count": null,
   "metadata": {
    "collapsed": false,
    "scrolled": true
   },
   "outputs": [],
   "source": [
    "plt.imshow(imagem_rgb)"
   ]
  },
  {
   "cell_type": "markdown",
   "metadata": {},
   "source": [
    "## Cores R & B : Separe os canais R e B das imagens e analise seus histogramas."
   ]
  },
  {
   "cell_type": "code",
   "execution_count": null,
   "metadata": {
    "collapsed": false
   },
   "outputs": [],
   "source": [
    "imagem_r = imagem_rgb[:,:,0]\n",
    "plt.imshow(imagem_r, cmap='Greys_r')"
   ]
  },
  {
   "cell_type": "code",
   "execution_count": null,
   "metadata": {
    "collapsed": false
   },
   "outputs": [],
   "source": [
    "hist,bins = np.histogram(imagem_r.flatten(),256,[0,256])\n",
    "cdf = hist.cumsum()\n",
    "cdf_normalized = cdf * hist.max()/ cdf.max()\n",
    "plt.plot(cdf_normalized, color = 'b')\n",
    "plt.hist(imagem_r.flatten(),256,[0,256], color = 'r')\n",
    "plt.xlim([0,256])\n",
    "plt.legend(('cdf','histogram'), loc = 'upper left')\n",
    "plt.show()"
   ]
  },
  {
   "cell_type": "code",
   "execution_count": null,
   "metadata": {
    "collapsed": false
   },
   "outputs": [],
   "source": [
    "imagem_g = imagem_rgb[:,:,1]\n",
    "plt.imshow(imagem_g, cmap='Greys_r')"
   ]
  },
  {
   "cell_type": "code",
   "execution_count": null,
   "metadata": {
    "collapsed": false
   },
   "outputs": [],
   "source": [
    "hist,bins = np.histogram(imagem_g.flatten(),256,[0,256])\n",
    "cdf = hist.cumsum()\n",
    "cdf_normalized = cdf * hist.max()/ cdf.max()\n",
    "plt.plot(cdf_normalized, color = 'b')\n",
    "plt.hist(imagem_g.flatten(),256,[0,256], color = 'r')\n",
    "plt.xlim([0,256])\n",
    "plt.legend(('cdf','histogram'), loc = 'upper left')\n",
    "plt.show()"
   ]
  },
  {
   "cell_type": "code",
   "execution_count": null,
   "metadata": {
    "collapsed": false
   },
   "outputs": [],
   "source": [
    "imagem_b = imagem_rgb[:,:,2]\n",
    "plt.imshow(imagem_b, cmap='Greys_r')"
   ]
  },
  {
   "cell_type": "code",
   "execution_count": null,
   "metadata": {
    "collapsed": false
   },
   "outputs": [],
   "source": [
    "hist,bins = np.histogram(imagem_b.flatten(),256,[0,256])\n",
    "cdf = hist.cumsum()\n",
    "cdf_normalized = cdf * hist.max()/ cdf.max()\n",
    "plt.plot(cdf_normalized, color = 'b')\n",
    "plt.hist(imagem_b.flatten(),256,[0,256], color = 'r')\n",
    "plt.xlim([0,256])\n",
    "plt.legend(('cdf','histogram'), loc = 'upper left')\n",
    "plt.show()"
   ]
  },
  {
   "cell_type": "markdown",
   "metadata": {},
   "source": [
    "#### 1. A partir dos canais R e B e da análise do histograma é possível identificar a caixa vermelha e a bateria azul?\n",
    "\n",
    "R: Sim, é possível.\n"
   ]
  },
  {
   "cell_type": "markdown",
   "metadata": {},
   "source": [
    "##  Crie uma imagem numpy em que somente os pixels da caixa vermelha estão brancos e faça seu plot aqui\n"
   ]
  },
  {
   "cell_type": "code",
   "execution_count": null,
   "metadata": {
    "collapsed": false
   },
   "outputs": [],
   "source": [
    "imagem_t = imagem_rgb[:,:,0]\n",
    "plt.imshow(imagem_t, cmap='Greys_r')\n",
    "imagem_rgb = cv2.cvtColor(imagem, cv2.COLOR_BGR2RGB)"
   ]
  },
  {
   "cell_type": "code",
   "execution_count": null,
   "metadata": {
    "collapsed": false
   },
   "outputs": [],
   "source": [
    "imagem_transposta = imagem_rgb.transpose()\n",
    "box_battery_r = imagem_rgb[:,:,0]\n",
    "box_battery_b = imagem_rgb[:,:,2]"
   ]
  },
  {
   "cell_type": "code",
   "execution_count": null,
   "metadata": {
    "collapsed": false
   },
   "outputs": [],
   "source": [
    "sqrt(pow(imagem[1000][1000][0]-imagem_transposta[0][400][300],2)+pow(imagem[1000][1000][1]-imagem_transposta[1][400][300],2)+\n",
    "pow(imagem[1000][1000][2]-imagem_transposta[2][400][300],2))\n"
   ]
  },
  {
   "cell_type": "code",
   "execution_count": null,
   "metadata": {
    "collapsed": false
   },
   "outputs": [],
   "source": [
    "r=225\n",
    "r"
   ]
  },
  {
   "cell_type": "code",
   "execution_count": null,
   "metadata": {
    "collapsed": false
   },
   "outputs": [],
   "source": [
    "g=47\n",
    "g"
   ]
  },
  {
   "cell_type": "code",
   "execution_count": null,
   "metadata": {
    "collapsed": false
   },
   "outputs": [],
   "source": [
    "b=40\n",
    "b"
   ]
  },
  {
   "cell_type": "code",
   "execution_count": null,
   "metadata": {
    "collapsed": false
   },
   "outputs": [],
   "source": [
    "caixa_branca = []\n",
    "size = (imagem_transposta.shape[1], imagem_transposta.shape[2])\n",
    "caixa_branca_i = np.zeros(size)\n",
    "for x in range(imagem_transposta.shape[1]):\n",
    "    for y in range(imagem_transposta.shape[2]):\n",
    "        distancia = sqrt(pow(r-imagem_transposta[0][x][y],2)+pow(g-imagem_transposta[1][x][y],2)+pow(b-imagem_transposta[2][x][y],2))\n",
    "        if distancia < 111:\n",
    "            caixa_branca_i[x][y] = 255\n",
    "        else:\n",
    "            caixa_branca_i[x][y] = 0\n",
    "    caixa_branca.append(caixa_branca_i)"
   ]
  },
  {
   "cell_type": "code",
   "execution_count": null,
   "metadata": {
    "collapsed": true
   },
   "outputs": [],
   "source": [
    "plt.imshow(caixa_branca_i.transpose(), cmap=\"Greys_r\", vmin=0, vmax=255)"
   ]
  },
  {
   "cell_type": "code",
   "execution_count": null,
   "metadata": {
    "collapsed": false
   },
   "outputs": [],
   "source": [
    "#http://opencv-python-tutroals.readthedocs.io/en/latest/py_tutorials/py_imgproc/py_colorspaces/py_colorspaces.html"
   ]
  },
  {
   "cell_type": "code",
   "execution_count": null,
   "metadata": {
    "collapsed": true
   },
   "outputs": [],
   "source": [
    "imagem_gray=cv2.cvtColor(box_battery, cv2.COLOR_RGB2GRAY)\n",
    "\n",
    "hist,bins = np.histogram(imagem_gray.flatten(),256,[0,256])\n",
    "hist,bins = np.histogram(imagem_gray.flatten(),256,[0,256])\n",
    "\n",
    "cdf = hist.cumsum()\n",
    "cdf_normalized = cdf * hist.max()/ cdf.max()\n",
    "\n",
    "plt.plot(cdf_normalized, color = 'b')\n",
    "plt.hist(imagem_gray.flatten(),256,[0,256], color = 'r')\n",
    "plt.xlim([0,256])\n",
    "plt.legend(('cdf','histogram'), loc = 'upper left')\n",
    "plt.show()\n",
    "plt.imshow(box_battery_r, cmap='Greys_r')"
   ]
  },
  {
   "cell_type": "code",
   "execution_count": null,
   "metadata": {
    "collapsed": true
   },
   "outputs": [],
   "source": []
  }
 ],
 "metadata": {
  "kernelspec": {
   "display_name": "Python 2",
   "language": "python",
   "name": "python2"
  },
  "language_info": {
   "codemirror_mode": {
    "name": "ipython",
    "version": 2
   },
   "file_extension": ".py",
   "mimetype": "text/x-python",
   "name": "python",
   "nbconvert_exporter": "python",
   "pygments_lexer": "ipython2",
   "version": "2.7.11"
  }
 },
 "nbformat": 4,
 "nbformat_minor": 0
}
